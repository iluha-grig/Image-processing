{
 "cells": [
  {
   "cell_type": "code",
   "execution_count": 1,
   "metadata": {},
   "outputs": [],
   "source": [
    "import numpy as np\n",
    "import skimage as ski\n",
    "from skimage import io\n",
    "import cv2 as cv"
   ]
  },
  {
   "cell_type": "code",
   "execution_count": 2,
   "metadata": {},
   "outputs": [],
   "source": [
    "def show(img):\n",
    "    cv.imshow('img', img)\n",
    "    cv.waitKey(0)"
   ]
  },
  {
   "cell_type": "code",
   "execution_count": 3,
   "metadata": {},
   "outputs": [],
   "source": [
    "img = cv.imread('training/001.tif', 0)"
   ]
  },
  {
   "cell_type": "code",
   "execution_count": 4,
   "metadata": {},
   "outputs": [
    {
     "data": {
      "text/plain": [
       "(684, 489)"
      ]
     },
     "execution_count": 4,
     "metadata": {},
     "output_type": "execute_result"
    }
   ],
   "source": [
    "img.shape"
   ]
  },
  {
   "cell_type": "code",
   "execution_count": 5,
   "metadata": {},
   "outputs": [],
   "source": [
    "show(img)"
   ]
  },
  {
   "cell_type": "code",
   "execution_count": 5,
   "metadata": {},
   "outputs": [],
   "source": [
    "ret, th1 = cv.threshold(img, 90, 255, cv.THRESH_BINARY)"
   ]
  },
  {
   "cell_type": "code",
   "execution_count": 7,
   "metadata": {},
   "outputs": [],
   "source": [
    "show(th1)"
   ]
  },
  {
   "cell_type": "code",
   "execution_count": 20,
   "metadata": {},
   "outputs": [
    {
     "data": {
      "text/plain": [
       "array([  0, 255], dtype=uint8)"
      ]
     },
     "execution_count": 20,
     "metadata": {},
     "output_type": "execute_result"
    }
   ],
   "source": [
    "np.unique(th1)"
   ]
  },
  {
   "cell_type": "code",
   "execution_count": null,
   "metadata": {},
   "outputs": [],
   "source": []
  },
  {
   "cell_type": "code",
   "execution_count": 6,
   "metadata": {},
   "outputs": [],
   "source": [
    "thresh = th1"
   ]
  },
  {
   "cell_type": "code",
   "execution_count": 7,
   "metadata": {},
   "outputs": [
    {
     "data": {
      "text/plain": [
       "array([[28, 24, 27, ..., 32, 35, 31],\n",
       "       [28, 25, 19, ..., 32, 33, 35],\n",
       "       [25, 26, 24, ..., 35, 36, 36],\n",
       "       ...,\n",
       "       [23, 20, 20, ..., 37, 37, 35],\n",
       "       [21, 22, 23, ..., 34, 33, 36],\n",
       "       [21, 18, 18, ..., 37, 37, 32]], dtype=uint8)"
      ]
     },
     "execution_count": 7,
     "metadata": {},
     "output_type": "execute_result"
    }
   ],
   "source": [
    "contours, hierarchy = cv.findContours(thresh, cv.RETR_TREE, cv.CHAIN_APPROX_SIMPLE)\n",
    "contours = max(contours, key=lambda x: cv.contourArea(x))\n",
    "cv.drawContours(img, [contours], 0, (255,255,255), 2)"
   ]
  },
  {
   "cell_type": "code",
   "execution_count": 10,
   "metadata": {},
   "outputs": [],
   "source": [
    "show(img)"
   ]
  },
  {
   "cell_type": "code",
   "execution_count": 11,
   "metadata": {},
   "outputs": [
    {
     "data": {
      "text/plain": [
       "array([[28, 24, 27, ..., 32, 35, 31],\n",
       "       [28, 25, 19, ..., 32, 33, 35],\n",
       "       [25, 26, 24, ..., 35, 36, 36],\n",
       "       ...,\n",
       "       [23, 20, 20, ..., 37, 37, 35],\n",
       "       [21, 22, 23, ..., 34, 33, 36],\n",
       "       [21, 18, 18, ..., 37, 37, 32]], dtype=uint8)"
      ]
     },
     "execution_count": 11,
     "metadata": {},
     "output_type": "execute_result"
    }
   ],
   "source": [
    "hull = cv.convexHull(contours)\n",
    "cv.drawContours(img, [hull], -1, (255, 255, 255), 2)"
   ]
  },
  {
   "cell_type": "code",
   "execution_count": 12,
   "metadata": {},
   "outputs": [],
   "source": [
    "show(img)"
   ]
  },
  {
   "cell_type": "code",
   "execution_count": null,
   "metadata": {},
   "outputs": [],
   "source": []
  },
  {
   "cell_type": "code",
   "execution_count": 8,
   "metadata": {},
   "outputs": [],
   "source": [
    "hull = cv.convexHull(contours, returnPoints=False)\n",
    "defects = cv.convexityDefects(contours, hull)"
   ]
  },
  {
   "cell_type": "code",
   "execution_count": 9,
   "metadata": {},
   "outputs": [],
   "source": [
    "list_end = []\n",
    "list_start = []"
   ]
  },
  {
   "cell_type": "code",
   "execution_count": 10,
   "metadata": {},
   "outputs": [],
   "source": [
    "for i in range(defects.shape[0]):  # calculate the angle\n",
    "    s, e, f, d = defects[i][0]\n",
    "    start = tuple(contours[s][0])\n",
    "    end = tuple(contours[e][0])\n",
    "    far = tuple(contours[f][0])\n",
    "    a = np.sqrt((end[0] - start[0]) ** 2 + (end[1] - start[1]) ** 2)\n",
    "    b = np.sqrt((far[0] - start[0]) ** 2 + (far[1] - start[1]) ** 2)\n",
    "    c = np.sqrt((end[0] - far[0]) ** 2 + (end[1] - far[1]) ** 2)\n",
    "    angle = np.arccos((b ** 2 + c ** 2 - a ** 2) / (2 * b * c))  #      cosine theorem\n",
    "    if angle <= np.pi / 2:  # angle less than 90 degree, treat as fingers\n",
    "        cv.circle(img, far, 4, [0, 0, 255], -1)\n",
    "        list_start.append(start)\n",
    "        list_end.append(end)"
   ]
  },
  {
   "cell_type": "code",
   "execution_count": 11,
   "metadata": {},
   "outputs": [],
   "source": [
    "eps = 25"
   ]
  },
  {
   "cell_type": "code",
   "execution_count": 12,
   "metadata": {},
   "outputs": [],
   "source": [
    "list_res = []\n",
    "list_end_tmp = list_end.copy()\n",
    "for first in list_start:\n",
    "    for second in list_end:\n",
    "        if np.sqrt((first[0] - second[0]) ** 2 + (first[1] - second[1]) ** 2) < eps:\n",
    "            list_res.append(((first[0] + second[0]) // 2, (first[1] + second[1]) // 2))\n",
    "            list_end_tmp.remove(second)\n",
    "            break\n",
    "    else:\n",
    "        list_res.append(first)\n",
    "if len(list_end_tmp) != 1:\n",
    "    raise Exception('Not one')\n",
    "else:\n",
    "    list_res.append(list_end_tmp[0])"
   ]
  },
  {
   "cell_type": "code",
   "execution_count": 13,
   "metadata": {},
   "outputs": [],
   "source": [
    "for point in list_res:\n",
    "    cv.circle(img, point, 4, [0, 0, 255], -1)"
   ]
  },
  {
   "cell_type": "code",
   "execution_count": 20,
   "metadata": {},
   "outputs": [],
   "source": [
    "show(img)"
   ]
  },
  {
   "cell_type": "code",
   "execution_count": null,
   "metadata": {},
   "outputs": [],
   "source": []
  },
  {
   "cell_type": "code",
   "execution_count": 17,
   "metadata": {},
   "outputs": [],
   "source": [
    "eps2 = 20"
   ]
  },
  {
   "cell_type": "code",
   "execution_count": 19,
   "metadata": {},
   "outputs": [],
   "source": [
    "for i in range(defects.shape[0]):  # calculate the angle\n",
    "    s, e, f, d = defects[i][0]\n",
    "    start = tuple(contours[s][0])\n",
    "    end = tuple(contours[e][0])\n",
    "    far = tuple(contours[f][0])\n",
    "    a = np.sqrt((end[0] - start[0]) ** 2 + (end[1] - start[1]) ** 2)\n",
    "    b = np.sqrt((far[0] - start[0]) ** 2 + (far[1] - start[1]) ** 2)\n",
    "    c = np.sqrt((end[0] - far[0]) ** 2 + (end[1] - far[1]) ** 2)\n",
    "    angle = np.arccos((b ** 2 + c ** 2 - a ** 2) / (2 * b * c))  #      cosine theorem\n",
    "    if angle <= np.pi / 2:  # angle less than 90 degree, treat as fingers\n",
    "        for point in list_res:\n",
    "            if np.sqrt((point[0] - start[0]) ** 2 + (point[1] - start[1]) ** 2) < eps2:\n",
    "                cv.line(img, point, far, [0, 0, 255], 3, -1)\n",
    "            if np.sqrt((point[0] - end[0]) ** 2 + (point[1] - end[1]) ** 2) < eps2:\n",
    "                cv.line(img, point, far, [0, 0, 255], 3, -1)"
   ]
  },
  {
   "cell_type": "code",
   "execution_count": null,
   "metadata": {},
   "outputs": [],
   "source": []
  }
 ],
 "metadata": {
  "kernelspec": {
   "display_name": "Python 3",
   "language": "python",
   "name": "python3"
  },
  "language_info": {
   "codemirror_mode": {
    "name": "ipython",
    "version": 3
   },
   "file_extension": ".py",
   "mimetype": "text/x-python",
   "name": "python",
   "nbconvert_exporter": "python",
   "pygments_lexer": "ipython3",
   "version": "3.8.5"
  }
 },
 "nbformat": 4,
 "nbformat_minor": 4
}
